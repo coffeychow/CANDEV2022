{
 "cells": [
  {
   "cell_type": "code",
   "execution_count": 13,
   "id": "ba91a970",
   "metadata": {},
   "outputs": [],
   "source": [
    "import turicreate as tc\n",
    "import numpy as np\n",
    "import matplotlib.pyplot as plt\n",
    "import seaborn as sns\n",
    "import pandas as pd\n",
    "import turicreate as tc"
   ]
  },
  {
   "cell_type": "code",
   "execution_count": 3,
   "id": "5bb9cdf5",
   "metadata": {},
   "outputs": [
    {
     "data": {
      "text/html": [
       "<div>\n",
       "<style scoped>\n",
       "    .dataframe tbody tr th:only-of-type {\n",
       "        vertical-align: middle;\n",
       "    }\n",
       "\n",
       "    .dataframe tbody tr th {\n",
       "        vertical-align: top;\n",
       "    }\n",
       "\n",
       "    .dataframe thead th {\n",
       "        text-align: right;\n",
       "    }\n",
       "</style>\n",
       "<table border=\"1\" class=\"dataframe\">\n",
       "  <thead>\n",
       "    <tr style=\"text-align: right;\">\n",
       "      <th></th>\n",
       "      <th>Row Labels</th>\n",
       "      <th>Number_of_assigned_group</th>\n",
       "      <th>BUSINESS_COMPLETION_HRS</th>\n",
       "    </tr>\n",
       "  </thead>\n",
       "  <tbody>\n",
       "    <tr>\n",
       "      <th>0</th>\n",
       "      <td>IN10065871</td>\n",
       "      <td>3</td>\n",
       "      <td>8.02</td>\n",
       "    </tr>\n",
       "    <tr>\n",
       "      <th>1</th>\n",
       "      <td>IN10056052</td>\n",
       "      <td>1</td>\n",
       "      <td>8.04</td>\n",
       "    </tr>\n",
       "    <tr>\n",
       "      <th>2</th>\n",
       "      <td>IN10170129</td>\n",
       "      <td>1</td>\n",
       "      <td>8.07</td>\n",
       "    </tr>\n",
       "    <tr>\n",
       "      <th>3</th>\n",
       "      <td>IN10059571</td>\n",
       "      <td>2</td>\n",
       "      <td>8.08</td>\n",
       "    </tr>\n",
       "    <tr>\n",
       "      <th>4</th>\n",
       "      <td>IN10220214</td>\n",
       "      <td>2</td>\n",
       "      <td>8.11</td>\n",
       "    </tr>\n",
       "    <tr>\n",
       "      <th>...</th>\n",
       "      <td>...</td>\n",
       "      <td>...</td>\n",
       "      <td>...</td>\n",
       "    </tr>\n",
       "    <tr>\n",
       "      <th>47140</th>\n",
       "      <td>IN10177348</td>\n",
       "      <td>3</td>\n",
       "      <td>6053.75</td>\n",
       "    </tr>\n",
       "    <tr>\n",
       "      <th>47141</th>\n",
       "      <td>IN10179217</td>\n",
       "      <td>4</td>\n",
       "      <td>6262.33</td>\n",
       "    </tr>\n",
       "    <tr>\n",
       "      <th>47142</th>\n",
       "      <td>IN10060391</td>\n",
       "      <td>1</td>\n",
       "      <td>6369.75</td>\n",
       "    </tr>\n",
       "    <tr>\n",
       "      <th>47143</th>\n",
       "      <td>IN10060715</td>\n",
       "      <td>2</td>\n",
       "      <td>6782.34</td>\n",
       "    </tr>\n",
       "    <tr>\n",
       "      <th>47144</th>\n",
       "      <td>IN10167776</td>\n",
       "      <td>1</td>\n",
       "      <td>7307.21</td>\n",
       "    </tr>\n",
       "  </tbody>\n",
       "</table>\n",
       "<p>47145 rows × 3 columns</p>\n",
       "</div>"
      ],
      "text/plain": [
       "       Row Labels  Number_of_assigned_group  BUSINESS_COMPLETION_HRS\n",
       "0      IN10065871                         3                     8.02\n",
       "1      IN10056052                         1                     8.04\n",
       "2      IN10170129                         1                     8.07\n",
       "3      IN10059571                         2                     8.08\n",
       "4      IN10220214                         2                     8.11\n",
       "...           ...                       ...                      ...\n",
       "47140  IN10177348                         3                  6053.75\n",
       "47141  IN10179217                         4                  6262.33\n",
       "47142  IN10060391                         1                  6369.75\n",
       "47143  IN10060715                         2                  6782.34\n",
       "47144  IN10167776                         1                  7307.21\n",
       "\n",
       "[47145 rows x 3 columns]"
      ]
     },
     "execution_count": 3,
     "metadata": {},
     "output_type": "execute_result"
    }
   ],
   "source": [
    "df_pd = pd.read_csv('question 1.csv')\n",
    "df_pd"
   ]
  },
  {
   "cell_type": "code",
   "execution_count": 22,
   "id": "301340ea",
   "metadata": {},
   "outputs": [
    {
     "data": {
      "text/plain": [
       "[]"
      ]
     },
     "execution_count": 22,
     "metadata": {},
     "output_type": "execute_result"
    },
    {
     "data": {
      "image/png": "[encoded data removed]",
      "text/plain": [
       "<Figure size 432x288 with 1 Axes>"
      ]
     },
     "metadata": {
      "needs_background": "light"
     },
     "output_type": "display_data"
    }
   ],
   "source": [
    "plt.scatter(x=df_pd['Number_of_assigned_group'], y=df_pd['BUSINESS_COMPLETION_HRS'])\n",
    "plt.plot()\n"
   ]
  },
  {
   "cell_type": "code",
   "execution_count": 9,
   "id": "e84d4988",
   "metadata": {},
   "outputs": [
    {
     "data": {
      "text/html": [
       "<div>\n",
       "<style scoped>\n",
       "    .dataframe tbody tr th:only-of-type {\n",
       "        vertical-align: middle;\n",
       "    }\n",
       "\n",
       "    .dataframe tbody tr th {\n",
       "        vertical-align: top;\n",
       "    }\n",
       "\n",
       "    .dataframe thead th {\n",
       "        text-align: right;\n",
       "    }\n",
       "</style>\n",
       "<table border=\"1\" class=\"dataframe\">\n",
       "  <thead>\n",
       "    <tr style=\"text-align: right;\">\n",
       "      <th></th>\n",
       "      <th>count</th>\n",
       "      <th>mean</th>\n",
       "      <th>std</th>\n",
       "      <th>min</th>\n",
       "      <th>25%</th>\n",
       "      <th>50%</th>\n",
       "      <th>75%</th>\n",
       "      <th>max</th>\n",
       "    </tr>\n",
       "    <tr>\n",
       "      <th>Number_of_assigned_group</th>\n",
       "      <th></th>\n",
       "      <th></th>\n",
       "      <th></th>\n",
       "      <th></th>\n",
       "      <th></th>\n",
       "      <th></th>\n",
       "      <th></th>\n",
       "      <th></th>\n",
       "    </tr>\n",
       "  </thead>\n",
       "  <tbody>\n",
       "    <tr>\n",
       "      <th>1</th>\n",
       "      <td>26849.0</td>\n",
       "      <td>262.314706</td>\n",
       "      <td>410.326411</td>\n",
       "      <td>8.04</td>\n",
       "      <td>64.2300</td>\n",
       "      <td>112.530</td>\n",
       "      <td>270.0000</td>\n",
       "      <td>7307.21</td>\n",
       "    </tr>\n",
       "    <tr>\n",
       "      <th>2</th>\n",
       "      <td>11395.0</td>\n",
       "      <td>305.301025</td>\n",
       "      <td>473.283400</td>\n",
       "      <td>8.08</td>\n",
       "      <td>67.4650</td>\n",
       "      <td>133.580</td>\n",
       "      <td>324.0750</td>\n",
       "      <td>6782.34</td>\n",
       "    </tr>\n",
       "    <tr>\n",
       "      <th>3</th>\n",
       "      <td>4943.0</td>\n",
       "      <td>378.352381</td>\n",
       "      <td>558.166870</td>\n",
       "      <td>8.02</td>\n",
       "      <td>75.7550</td>\n",
       "      <td>165.000</td>\n",
       "      <td>437.2250</td>\n",
       "      <td>6053.75</td>\n",
       "    </tr>\n",
       "    <tr>\n",
       "      <th>4</th>\n",
       "      <td>2277.0</td>\n",
       "      <td>423.077633</td>\n",
       "      <td>607.772065</td>\n",
       "      <td>8.31</td>\n",
       "      <td>79.4400</td>\n",
       "      <td>186.900</td>\n",
       "      <td>508.3500</td>\n",
       "      <td>6262.33</td>\n",
       "    </tr>\n",
       "    <tr>\n",
       "      <th>5</th>\n",
       "      <td>984.0</td>\n",
       "      <td>507.685234</td>\n",
       "      <td>691.954139</td>\n",
       "      <td>8.72</td>\n",
       "      <td>87.8075</td>\n",
       "      <td>221.790</td>\n",
       "      <td>616.3775</td>\n",
       "      <td>4424.32</td>\n",
       "    </tr>\n",
       "    <tr>\n",
       "      <th>6</th>\n",
       "      <td>443.0</td>\n",
       "      <td>557.286208</td>\n",
       "      <td>766.626264</td>\n",
       "      <td>20.70</td>\n",
       "      <td>110.6600</td>\n",
       "      <td>232.120</td>\n",
       "      <td>682.9300</td>\n",
       "      <td>5631.10</td>\n",
       "    </tr>\n",
       "    <tr>\n",
       "      <th>7</th>\n",
       "      <td>156.0</td>\n",
       "      <td>530.759423</td>\n",
       "      <td>578.743973</td>\n",
       "      <td>20.78</td>\n",
       "      <td>138.2400</td>\n",
       "      <td>309.125</td>\n",
       "      <td>711.3000</td>\n",
       "      <td>2800.63</td>\n",
       "    </tr>\n",
       "    <tr>\n",
       "      <th>8</th>\n",
       "      <td>62.0</td>\n",
       "      <td>683.650968</td>\n",
       "      <td>764.647394</td>\n",
       "      <td>36.82</td>\n",
       "      <td>205.3350</td>\n",
       "      <td>454.320</td>\n",
       "      <td>842.1500</td>\n",
       "      <td>4300.35</td>\n",
       "    </tr>\n",
       "    <tr>\n",
       "      <th>9</th>\n",
       "      <td>25.0</td>\n",
       "      <td>903.520800</td>\n",
       "      <td>616.729659</td>\n",
       "      <td>89.04</td>\n",
       "      <td>295.8500</td>\n",
       "      <td>759.720</td>\n",
       "      <td>1492.9300</td>\n",
       "      <td>2050.30</td>\n",
       "    </tr>\n",
       "    <tr>\n",
       "      <th>10</th>\n",
       "      <td>8.0</td>\n",
       "      <td>908.876250</td>\n",
       "      <td>571.628106</td>\n",
       "      <td>225.05</td>\n",
       "      <td>419.0825</td>\n",
       "      <td>911.355</td>\n",
       "      <td>1258.0525</td>\n",
       "      <td>1777.87</td>\n",
       "    </tr>\n",
       "    <tr>\n",
       "      <th>11</th>\n",
       "      <td>3.0</td>\n",
       "      <td>1722.186667</td>\n",
       "      <td>2010.816909</td>\n",
       "      <td>22.73</td>\n",
       "      <td>612.2550</td>\n",
       "      <td>1201.780</td>\n",
       "      <td>2571.9150</td>\n",
       "      <td>3942.05</td>\n",
       "    </tr>\n",
       "  </tbody>\n",
       "</table>\n",
       "</div>"
      ],
      "text/plain": [
       "                            count         mean          std     min       25%  \\\n",
       "Number_of_assigned_group                                                        \n",
       "1                         26849.0   262.314706   410.326411    8.04   64.2300   \n",
       "2                         11395.0   305.301025   473.283400    8.08   67.4650   \n",
       "3                          4943.0   378.352381   558.166870    8.02   75.7550   \n",
       "4                          2277.0   423.077633   607.772065    8.31   79.4400   \n",
       "5                           984.0   507.685234   691.954139    8.72   87.8075   \n",
       "6                           443.0   557.286208   766.626264   20.70  110.6600   \n",
       "7                           156.0   530.759423   578.743973   20.78  138.2400   \n",
       "8                            62.0   683.650968   764.647394   36.82  205.3350   \n",
       "9                            25.0   903.520800   616.729659   89.04  295.8500   \n",
       "10                            8.0   908.876250   571.628106  225.05  419.0825   \n",
       "11                            3.0  1722.186667  2010.816909   22.73  612.2550   \n",
       "\n",
       "                               50%        75%      max  \n",
       "Number_of_assigned_group                                \n",
       "1                          112.530   270.0000  7307.21  \n",
       "2                          133.580   324.0750  6782.34  \n",
       "3                          165.000   437.2250  6053.75  \n",
       "4                          186.900   508.3500  6262.33  \n",
       "5                          221.790   616.3775  4424.32  \n",
       "6                          232.120   682.9300  5631.10  \n",
       "7                          309.125   711.3000  2800.63  \n",
       "8                          454.320   842.1500  4300.35  \n",
       "9                          759.720  1492.9300  2050.30  \n",
       "10                         911.355  1258.0525  1777.87  \n",
       "11                        1201.780  2571.9150  3942.05  "
      ]
     },
     "execution_count": 9,
     "metadata": {},
     "output_type": "execute_result"
    }
   ],
   "source": [
    "df_pd.groupby(\"Number_of_assigned_group\")['BUSINESS_COMPLETION_HRS'].describe()"
   ]
  },
  {
   "cell_type": "code",
   "execution_count": 10,
   "id": "6f1e5ee5",
   "metadata": {},
   "outputs": [
    {
     "data": {
      "text/html": [
       "<div>\n",
       "<style scoped>\n",
       "    .dataframe tbody tr th:only-of-type {\n",
       "        vertical-align: middle;\n",
       "    }\n",
       "\n",
       "    .dataframe tbody tr th {\n",
       "        vertical-align: top;\n",
       "    }\n",
       "\n",
       "    .dataframe thead th {\n",
       "        text-align: right;\n",
       "    }\n",
       "</style>\n",
       "<table border=\"1\" class=\"dataframe\">\n",
       "  <thead>\n",
       "    <tr style=\"text-align: right;\">\n",
       "      <th></th>\n",
       "      <th>Number_of_assigned_group</th>\n",
       "      <th>BUSINESS_COMPLETION_HRS</th>\n",
       "    </tr>\n",
       "  </thead>\n",
       "  <tbody>\n",
       "    <tr>\n",
       "      <th>Number_of_assigned_group</th>\n",
       "      <td>1.000000</td>\n",
       "      <td>0.139293</td>\n",
       "    </tr>\n",
       "    <tr>\n",
       "      <th>BUSINESS_COMPLETION_HRS</th>\n",
       "      <td>0.139293</td>\n",
       "      <td>1.000000</td>\n",
       "    </tr>\n",
       "  </tbody>\n",
       "</table>\n",
       "</div>"
      ],
      "text/plain": [
       "                          Number_of_assigned_group  BUSINESS_COMPLETION_HRS\n",
       "Number_of_assigned_group                  1.000000                 0.139293\n",
       "BUSINESS_COMPLETION_HRS                   0.139293                 1.000000"
      ]
     },
     "execution_count": 10,
     "metadata": {},
     "output_type": "execute_result"
    }
   ],
   "source": [
    "df_pd.corr(method='pearson')"
   ]
  },
  {
   "cell_type": "code",
   "execution_count": 15,
   "id": "f2c8918e",
   "metadata": {},
   "outputs": [
    {
     "data": {
      "text/html": [
       "<pre>Finished parsing file /home/kchow3/CANDEV/question 1.csv</pre>"
      ],
      "text/plain": [
       "Finished parsing file /home/kchow3/CANDEV/question 1.csv"
      ]
     },
     "metadata": {},
     "output_type": "display_data"
    },
    {
     "data": {
      "text/html": [
       "<pre>Parsing completed. Parsed 100 lines in 0.049773 secs.</pre>"
      ],
      "text/plain": [
       "Parsing completed. Parsed 100 lines in 0.049773 secs."
      ]
     },
     "metadata": {},
     "output_type": "display_data"
    },
    {
     "name": "stdout",
     "output_type": "stream",
     "text": [
      "------------------------------------------------------\n",
      "Inferred types from first 100 line(s) of file as \n",
      "column_type_hints=[str,int,float]\n",
      "If parsing fails due to incorrect types, you can correct\n",
      "the inferred type list above and pass it to read_csv in\n",
      "the column_type_hints argument\n",
      "------------------------------------------------------\n"
     ]
    },
    {
     "data": {
      "text/html": [
       "<pre>Finished parsing file /home/kchow3/CANDEV/question 1.csv</pre>"
      ],
      "text/plain": [
       "Finished parsing file /home/kchow3/CANDEV/question 1.csv"
      ]
     },
     "metadata": {},
     "output_type": "display_data"
    },
    {
     "data": {
      "text/html": [
       "<pre>Parsing completed. Parsed 47145 lines in 0.058819 secs.</pre>"
      ],
      "text/plain": [
       "Parsing completed. Parsed 47145 lines in 0.058819 secs."
      ]
     },
     "metadata": {},
     "output_type": "display_data"
    },
    {
     "data": {
      "text/html": [
       "<div style=\"max-height:1000px;max-width:1500px;overflow:auto;\"><table frame=\"box\" rules=\"cols\">\n",
       "    <tr>\n",
       "        <th style=\"padding-left: 1em; padding-right: 1em; text-align: center\">Row Labels</th>\n",
       "        <th style=\"padding-left: 1em; padding-right: 1em; text-align: center\">Number_of_assigned_group</th>\n",
       "        <th style=\"padding-left: 1em; padding-right: 1em; text-align: center\">BUSINESS_COMPLETION_HRS</th>\n",
       "    </tr>\n",
       "    <tr>\n",
       "        <td style=\"padding-left: 1em; padding-right: 1em; text-align: center; vertical-align: top\">IN10065871</td>\n",
       "        <td style=\"padding-left: 1em; padding-right: 1em; text-align: center; vertical-align: top\">3</td>\n",
       "        <td style=\"padding-left: 1em; padding-right: 1em; text-align: center; vertical-align: top\">8.02</td>\n",
       "    </tr>\n",
       "    <tr>\n",
       "        <td style=\"padding-left: 1em; padding-right: 1em; text-align: center; vertical-align: top\">IN10056052</td>\n",
       "        <td style=\"padding-left: 1em; padding-right: 1em; text-align: center; vertical-align: top\">1</td>\n",
       "        <td style=\"padding-left: 1em; padding-right: 1em; text-align: center; vertical-align: top\">8.04</td>\n",
       "    </tr>\n",
       "    <tr>\n",
       "        <td style=\"padding-left: 1em; padding-right: 1em; text-align: center; vertical-align: top\">IN10170129</td>\n",
       "        <td style=\"padding-left: 1em; padding-right: 1em; text-align: center; vertical-align: top\">1</td>\n",
       "        <td style=\"padding-left: 1em; padding-right: 1em; text-align: center; vertical-align: top\">8.07</td>\n",
       "    </tr>\n",
       "    <tr>\n",
       "        <td style=\"padding-left: 1em; padding-right: 1em; text-align: center; vertical-align: top\">IN10059571</td>\n",
       "        <td style=\"padding-left: 1em; padding-right: 1em; text-align: center; vertical-align: top\">2</td>\n",
       "        <td style=\"padding-left: 1em; padding-right: 1em; text-align: center; vertical-align: top\">8.08</td>\n",
       "    </tr>\n",
       "    <tr>\n",
       "        <td style=\"padding-left: 1em; padding-right: 1em; text-align: center; vertical-align: top\">IN10220214</td>\n",
       "        <td style=\"padding-left: 1em; padding-right: 1em; text-align: center; vertical-align: top\">2</td>\n",
       "        <td style=\"padding-left: 1em; padding-right: 1em; text-align: center; vertical-align: top\">8.11</td>\n",
       "    </tr>\n",
       "    <tr>\n",
       "        <td style=\"padding-left: 1em; padding-right: 1em; text-align: center; vertical-align: top\">IN10203377</td>\n",
       "        <td style=\"padding-left: 1em; padding-right: 1em; text-align: center; vertical-align: top\">1</td>\n",
       "        <td style=\"padding-left: 1em; padding-right: 1em; text-align: center; vertical-align: top\">8.17</td>\n",
       "    </tr>\n",
       "    <tr>\n",
       "        <td style=\"padding-left: 1em; padding-right: 1em; text-align: center; vertical-align: top\">IN10065222</td>\n",
       "        <td style=\"padding-left: 1em; padding-right: 1em; text-align: center; vertical-align: top\">1</td>\n",
       "        <td style=\"padding-left: 1em; padding-right: 1em; text-align: center; vertical-align: top\">8.18</td>\n",
       "    </tr>\n",
       "    <tr>\n",
       "        <td style=\"padding-left: 1em; padding-right: 1em; text-align: center; vertical-align: top\">IN10129942</td>\n",
       "        <td style=\"padding-left: 1em; padding-right: 1em; text-align: center; vertical-align: top\">2</td>\n",
       "        <td style=\"padding-left: 1em; padding-right: 1em; text-align: center; vertical-align: top\">8.18</td>\n",
       "    </tr>\n",
       "    <tr>\n",
       "        <td style=\"padding-left: 1em; padding-right: 1em; text-align: center; vertical-align: top\">IN10105926</td>\n",
       "        <td style=\"padding-left: 1em; padding-right: 1em; text-align: center; vertical-align: top\">2</td>\n",
       "        <td style=\"padding-left: 1em; padding-right: 1em; text-align: center; vertical-align: top\">8.22</td>\n",
       "    </tr>\n",
       "    <tr>\n",
       "        <td style=\"padding-left: 1em; padding-right: 1em; text-align: center; vertical-align: top\">IN10150567</td>\n",
       "        <td style=\"padding-left: 1em; padding-right: 1em; text-align: center; vertical-align: top\">2</td>\n",
       "        <td style=\"padding-left: 1em; padding-right: 1em; text-align: center; vertical-align: top\">8.24</td>\n",
       "    </tr>\n",
       "</table>\n",
       "[47145 rows x 3 columns]<br/>Note: Only the head of the SFrame is printed.<br/>You can use print_rows(num_rows=m, num_columns=n) to print more rows and columns.\n",
       "</div>"
      ],
      "text/plain": [
       "Columns:\n",
       "\tRow Labels\tstr\n",
       "\tNumber_of_assigned_group\tint\n",
       "\tBUSINESS_COMPLETION_HRS\tfloat\n",
       "\n",
       "Rows: 47145\n",
       "\n",
       "Data:\n",
       "+------------+--------------------------+-------------------------+\n",
       "| Row Labels | Number_of_assigned_group | BUSINESS_COMPLETION_HRS |\n",
       "+------------+--------------------------+-------------------------+\n",
       "| IN10065871 |            3             |           8.02          |\n",
       "| IN10056052 |            1             |           8.04          |\n",
       "| IN10170129 |            1             |           8.07          |\n",
       "| IN10059571 |            2             |           8.08          |\n",
       "| IN10220214 |            2             |           8.11          |\n",
       "| IN10203377 |            1             |           8.17          |\n",
       "| IN10065222 |            1             |           8.18          |\n",
       "| IN10129942 |            2             |           8.18          |\n",
       "| IN10105926 |            2             |           8.22          |\n",
       "| IN10150567 |            2             |           8.24          |\n",
       "+------------+--------------------------+-------------------------+\n",
       "[47145 rows x 3 columns]\n",
       "Note: Only the head of the SFrame is printed.\n",
       "You can use print_rows(num_rows=m, num_columns=n) to print more rows and columns."
      ]
     },
     "execution_count": 15,
     "metadata": {},
     "output_type": "execute_result"
    }
   ],
   "source": [
    "data_tc = tc.SFrame('question 1.csv')\n",
    "data_tc"
   ]
  },
  {
   "cell_type": "code",
   "execution_count": 16,
   "id": "33a91c2f",
   "metadata": {},
   "outputs": [
    {
     "name": "stdout",
     "output_type": "stream",
     "text": [
      "PROGRESS: Creating a validation set from 5 percent of training data. This may take a while.\n",
      "          You can set ``validation_set=None`` to disable validation tracking.\n",
      "\n"
     ]
    },
    {
     "data": {
      "text/html": [
       "<pre>Linear regression:</pre>"
      ],
      "text/plain": [
       "Linear regression:"
      ]
     },
     "metadata": {},
     "output_type": "display_data"
    },
    {
     "data": {
      "text/html": [
       "<pre>--------------------------------------------------------</pre>"
      ],
      "text/plain": [
       "--------------------------------------------------------"
      ]
     },
     "metadata": {},
     "output_type": "display_data"
    },
    {
     "data": {
      "text/html": [
       "<pre>Number of examples          : 44787</pre>"
      ],
      "text/plain": [
       "Number of examples          : 44787"
      ]
     },
     "metadata": {},
     "output_type": "display_data"
    },
    {
     "data": {
      "text/html": [
       "<pre>Number of features          : 1</pre>"
      ],
      "text/plain": [
       "Number of features          : 1"
      ]
     },
     "metadata": {},
     "output_type": "display_data"
    },
    {
     "data": {
      "text/html": [
       "<pre>Number of unpacked features : 1</pre>"
      ],
      "text/plain": [
       "Number of unpacked features : 1"
      ]
     },
     "metadata": {},
     "output_type": "display_data"
    },
    {
     "data": {
      "text/html": [
       "<pre>Number of coefficients    : 2</pre>"
      ],
      "text/plain": [
       "Number of coefficients    : 2"
      ]
     },
     "metadata": {},
     "output_type": "display_data"
    },
    {
     "data": {
      "text/html": [
       "<pre>Starting Newton Method</pre>"
      ],
      "text/plain": [
       "Starting Newton Method"
      ]
     },
     "metadata": {},
     "output_type": "display_data"
    },
    {
     "data": {
      "text/html": [
       "<pre>--------------------------------------------------------</pre>"
      ],
      "text/plain": [
       "--------------------------------------------------------"
      ]
     },
     "metadata": {},
     "output_type": "display_data"
    },
    {
     "data": {
      "text/html": [
       "<pre>+-----------+----------+--------------+--------------------+----------------------+---------------------------------+-----------------------------------+</pre>"
      ],
      "text/plain": [
       "+-----------+----------+--------------+--------------------+----------------------+---------------------------------+-----------------------------------+"
      ]
     },
     "metadata": {},
     "output_type": "display_data"
    },
    {
     "data": {
      "text/html": [
       "<pre>| Iteration | Passes   | Elapsed Time | Training Max Error | Validation Max Error | Training Root-Mean-Square Error | Validation Root-Mean-Square Error |</pre>"
      ],
      "text/plain": [
       "| Iteration | Passes   | Elapsed Time | Training Max Error | Validation Max Error | Training Root-Mean-Square Error | Validation Root-Mean-Square Error |"
      ]
     },
     "metadata": {},
     "output_type": "display_data"
    },
    {
     "data": {
      "text/html": [
       "<pre>+-----------+----------+--------------+--------------------+----------------------+---------------------------------+-----------------------------------+</pre>"
      ],
      "text/plain": [
       "+-----------+----------+--------------+--------------------+----------------------+---------------------------------+-----------------------------------+"
      ]
     },
     "metadata": {},
     "output_type": "display_data"
    },
    {
     "data": {
      "text/html": [
       "<pre>| 1         | 2        | 1.109824     | 7048.363902        | 4483.134782          | 466.382521                      | 485.303203                        |</pre>"
      ],
      "text/plain": [
       "| 1         | 2        | 1.109824     | 7048.363902        | 4483.134782          | 466.382521                      | 485.303203                        |"
      ]
     },
     "metadata": {},
     "output_type": "display_data"
    },
    {
     "data": {
      "text/html": [
       "<pre>+-----------+----------+--------------+--------------------+----------------------+---------------------------------+-----------------------------------+</pre>"
      ],
      "text/plain": [
       "+-----------+----------+--------------+--------------------+----------------------+---------------------------------+-----------------------------------+"
      ]
     },
     "metadata": {},
     "output_type": "display_data"
    },
    {
     "data": {
      "text/html": [
       "<pre>SUCCESS: Optimal solution found.</pre>"
      ],
      "text/plain": [
       "SUCCESS: Optimal solution found."
      ]
     },
     "metadata": {},
     "output_type": "display_data"
    },
    {
     "data": {
      "text/html": [
       "<pre></pre>"
      ],
      "text/plain": []
     },
     "metadata": {},
     "output_type": "display_data"
    }
   ],
   "source": [
    "model = tc.linear_regression.create(data_tc, features=['Number_of_assigned_group'], target='BUSINESS_COMPLETION_HRS')"
   ]
  },
  {
   "cell_type": "code",
   "execution_count": 17,
   "id": "3dae11a9",
   "metadata": {},
   "outputs": [
    {
     "data": {
      "text/html": [
       "<div style=\"max-height:1000px;max-width:1500px;overflow:auto;\"><table frame=\"box\" rules=\"cols\">\n",
       "    <tr>\n",
       "        <th style=\"padding-left: 1em; padding-right: 1em; text-align: center\">name</th>\n",
       "        <th style=\"padding-left: 1em; padding-right: 1em; text-align: center\">index</th>\n",
       "        <th style=\"padding-left: 1em; padding-right: 1em; text-align: center\">value</th>\n",
       "        <th style=\"padding-left: 1em; padding-right: 1em; text-align: center\">stderr</th>\n",
       "    </tr>\n",
       "    <tr>\n",
       "        <td style=\"padding-left: 1em; padding-right: 1em; text-align: center; vertical-align: top\">(intercept)</td>\n",
       "        <td style=\"padding-left: 1em; padding-right: 1em; text-align: center; vertical-align: top\">None</td>\n",
       "        <td style=\"padding-left: 1em; padding-right: 1em; text-align: center; vertical-align: top\">202.10639095597702</td>\n",
       "        <td style=\"padding-left: 1em; padding-right: 1em; text-align: center; vertical-align: top\">4.033671262728805</td>\n",
       "    </tr>\n",
       "    <tr>\n",
       "        <td style=\"padding-left: 1em; padding-right: 1em; text-align: center; vertical-align: top\">Number_of_assigned_group</td>\n",
       "        <td style=\"padding-left: 1em; padding-right: 1em; text-align: center; vertical-align: top\">None</td>\n",
       "        <td style=\"padding-left: 1em; padding-right: 1em; text-align: center; vertical-align: top\">56.73970682488898</td>\n",
       "        <td style=\"padding-left: 1em; padding-right: 1em; text-align: center; vertical-align: top\">1.916056298475634</td>\n",
       "    </tr>\n",
       "</table>\n",
       "[2 rows x 4 columns]<br/>\n",
       "</div>"
      ],
      "text/plain": [
       "Columns:\n",
       "\tname\tstr\n",
       "\tindex\tstr\n",
       "\tvalue\tfloat\n",
       "\tstderr\tfloat\n",
       "\n",
       "Rows: 2\n",
       "\n",
       "Data:\n",
       "+--------------------------+-------+--------------------+-------------------+\n",
       "|           name           | index |       value        |       stderr      |\n",
       "+--------------------------+-------+--------------------+-------------------+\n",
       "|       (intercept)        |  None | 202.10639095597702 | 4.033671262728805 |\n",
       "| Number_of_assigned_group |  None | 56.73970682488898  | 1.916056298475634 |\n",
       "+--------------------------+-------+--------------------+-------------------+\n",
       "[2 rows x 4 columns]"
      ]
     },
     "execution_count": 17,
     "metadata": {},
     "output_type": "execute_result"
    }
   ],
   "source": [
    "model.coefficients"
   ]
  },
  {
   "cell_type": "code",
   "execution_count": 19,
   "id": "0c319cf6",
   "metadata": {},
   "outputs": [
    {
     "data": {
      "text/plain": [
       "{'max_error': 7048.363902219134, 'rmse': 467.3470546545454}"
      ]
     },
     "execution_count": 19,
     "metadata": {},
     "output_type": "execute_result"
    }
   ],
   "source": [
    "model.evaluate(data_tc)"
   ]
  }
 ],
 "metadata": {
  "kernelspec": {
   "display_name": "Python 3",
   "language": "python",
   "name": "python3"
  },
  "language_info": {
   "codemirror_mode": {
    "name": "ipython",
    "version": 3
   },
   "file_extension": ".py",
   "mimetype": "text/x-python",
   "name": "python",
   "nbconvert_exporter": "python",
   "pygments_lexer": "ipython3",
   "version": "3.8.8"
  }
 },
 "nbformat": 4,
 "nbformat_minor": 5
}
