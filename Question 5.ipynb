{
 "cells": [
  {
   "cell_type": "code",
   "execution_count": 75,
   "id": "ea6a83e8",
   "metadata": {},
   "outputs": [],
   "source": [
    "import turicreate as tc\n",
    "import numpy as np\n",
    "import matplotlib.pyplot as plt\n",
    "import seaborn as sns\n",
    "import pandas as pd"
   ]
  },
  {
   "cell_type": "code",
   "execution_count": 76,
   "id": "4438f4b8",
   "metadata": {},
   "outputs": [
    {
     "data": {
      "text/html": [
       "<div>\n",
       "<style scoped>\n",
       "    .dataframe tbody tr th:only-of-type {\n",
       "        vertical-align: middle;\n",
       "    }\n",
       "\n",
       "    .dataframe tbody tr th {\n",
       "        vertical-align: top;\n",
       "    }\n",
       "\n",
       "    .dataframe thead th {\n",
       "        text-align: right;\n",
       "    }\n",
       "</style>\n",
       "<table border=\"1\" class=\"dataframe\">\n",
       "  <thead>\n",
       "    <tr style=\"text-align: right;\">\n",
       "      <th></th>\n",
       "      <th>TICKET_NMBR</th>\n",
       "      <th>PRIORITY</th>\n",
       "      <th>BUSINESS_COMPLETION_HRS</th>\n",
       "      <th>EXTERNAL_SYSTEM</th>\n",
       "      <th>label</th>\n",
       "      <th>1</th>\n",
       "      <th>2</th>\n",
       "      <th>3</th>\n",
       "      <th>4</th>\n",
       "      <th>5</th>\n",
       "      <th>6</th>\n",
       "      <th>7</th>\n",
       "      <th>8</th>\n",
       "      <th>9</th>\n",
       "      <th>10</th>\n",
       "      <th>11</th>\n",
       "      <th>12</th>\n",
       "    </tr>\n",
       "  </thead>\n",
       "  <tbody>\n",
       "    <tr>\n",
       "      <th>0</th>\n",
       "      <td>IN10032682</td>\n",
       "      <td>Low</td>\n",
       "      <td>75.05</td>\n",
       "      <td>1)CHAT</td>\n",
       "      <td>1</td>\n",
       "      <td>1</td>\n",
       "      <td>0</td>\n",
       "      <td>0</td>\n",
       "      <td>0</td>\n",
       "      <td>0</td>\n",
       "      <td>0</td>\n",
       "      <td>0</td>\n",
       "      <td>0</td>\n",
       "      <td>0</td>\n",
       "      <td>0</td>\n",
       "      <td>0</td>\n",
       "      <td>0</td>\n",
       "    </tr>\n",
       "    <tr>\n",
       "      <th>1</th>\n",
       "      <td>IN10174402</td>\n",
       "      <td>Low</td>\n",
       "      <td>2200.83</td>\n",
       "      <td>2)CREATEDFROMACTIVITY</td>\n",
       "      <td>2</td>\n",
       "      <td>0</td>\n",
       "      <td>1</td>\n",
       "      <td>0</td>\n",
       "      <td>0</td>\n",
       "      <td>0</td>\n",
       "      <td>0</td>\n",
       "      <td>0</td>\n",
       "      <td>0</td>\n",
       "      <td>0</td>\n",
       "      <td>0</td>\n",
       "      <td>0</td>\n",
       "      <td>0</td>\n",
       "    </tr>\n",
       "    <tr>\n",
       "      <th>2</th>\n",
       "      <td>IN10096643</td>\n",
       "      <td>Medium</td>\n",
       "      <td>1781.49</td>\n",
       "      <td>2)CREATEDFROMACTIVITY</td>\n",
       "      <td>2</td>\n",
       "      <td>0</td>\n",
       "      <td>1</td>\n",
       "      <td>0</td>\n",
       "      <td>0</td>\n",
       "      <td>0</td>\n",
       "      <td>0</td>\n",
       "      <td>0</td>\n",
       "      <td>0</td>\n",
       "      <td>0</td>\n",
       "      <td>0</td>\n",
       "      <td>0</td>\n",
       "      <td>0</td>\n",
       "    </tr>\n",
       "    <tr>\n",
       "      <th>3</th>\n",
       "      <td>IN10174381</td>\n",
       "      <td>Low</td>\n",
       "      <td>797.32</td>\n",
       "      <td>2)CREATEDFROMACTIVITY</td>\n",
       "      <td>2</td>\n",
       "      <td>0</td>\n",
       "      <td>1</td>\n",
       "      <td>0</td>\n",
       "      <td>0</td>\n",
       "      <td>0</td>\n",
       "      <td>0</td>\n",
       "      <td>0</td>\n",
       "      <td>0</td>\n",
       "      <td>0</td>\n",
       "      <td>0</td>\n",
       "      <td>0</td>\n",
       "      <td>0</td>\n",
       "    </tr>\n",
       "    <tr>\n",
       "      <th>4</th>\n",
       "      <td>IN10107356</td>\n",
       "      <td>Low</td>\n",
       "      <td>682.92</td>\n",
       "      <td>2)CREATEDFROMACTIVITY</td>\n",
       "      <td>2</td>\n",
       "      <td>0</td>\n",
       "      <td>1</td>\n",
       "      <td>0</td>\n",
       "      <td>0</td>\n",
       "      <td>0</td>\n",
       "      <td>0</td>\n",
       "      <td>0</td>\n",
       "      <td>0</td>\n",
       "      <td>0</td>\n",
       "      <td>0</td>\n",
       "      <td>0</td>\n",
       "      <td>0</td>\n",
       "    </tr>\n",
       "    <tr>\n",
       "      <th>...</th>\n",
       "      <td>...</td>\n",
       "      <td>...</td>\n",
       "      <td>...</td>\n",
       "      <td>...</td>\n",
       "      <td>...</td>\n",
       "      <td>...</td>\n",
       "      <td>...</td>\n",
       "      <td>...</td>\n",
       "      <td>...</td>\n",
       "      <td>...</td>\n",
       "      <td>...</td>\n",
       "      <td>...</td>\n",
       "      <td>...</td>\n",
       "      <td>...</td>\n",
       "      <td>...</td>\n",
       "      <td>...</td>\n",
       "      <td>...</td>\n",
       "    </tr>\n",
       "    <tr>\n",
       "      <th>50112</th>\n",
       "      <td>IN10046796</td>\n",
       "      <td>Low</td>\n",
       "      <td>355.20</td>\n",
       "      <td>12)WALKUP</td>\n",
       "      <td>12</td>\n",
       "      <td>0</td>\n",
       "      <td>0</td>\n",
       "      <td>0</td>\n",
       "      <td>0</td>\n",
       "      <td>0</td>\n",
       "      <td>0</td>\n",
       "      <td>0</td>\n",
       "      <td>0</td>\n",
       "      <td>0</td>\n",
       "      <td>0</td>\n",
       "      <td>0</td>\n",
       "      <td>1</td>\n",
       "    </tr>\n",
       "    <tr>\n",
       "      <th>50113</th>\n",
       "      <td>IN10035095</td>\n",
       "      <td>Low</td>\n",
       "      <td>338.32</td>\n",
       "      <td>12)WALKUP</td>\n",
       "      <td>12</td>\n",
       "      <td>0</td>\n",
       "      <td>0</td>\n",
       "      <td>0</td>\n",
       "      <td>0</td>\n",
       "      <td>0</td>\n",
       "      <td>0</td>\n",
       "      <td>0</td>\n",
       "      <td>0</td>\n",
       "      <td>0</td>\n",
       "      <td>0</td>\n",
       "      <td>0</td>\n",
       "      <td>1</td>\n",
       "    </tr>\n",
       "    <tr>\n",
       "      <th>50114</th>\n",
       "      <td>IN10035525</td>\n",
       "      <td>Medium</td>\n",
       "      <td>181.82</td>\n",
       "      <td>12)WALKUP</td>\n",
       "      <td>12</td>\n",
       "      <td>0</td>\n",
       "      <td>0</td>\n",
       "      <td>0</td>\n",
       "      <td>0</td>\n",
       "      <td>0</td>\n",
       "      <td>0</td>\n",
       "      <td>0</td>\n",
       "      <td>0</td>\n",
       "      <td>0</td>\n",
       "      <td>0</td>\n",
       "      <td>0</td>\n",
       "      <td>1</td>\n",
       "    </tr>\n",
       "    <tr>\n",
       "      <th>50115</th>\n",
       "      <td>IN10166123</td>\n",
       "      <td>Low</td>\n",
       "      <td>124.92</td>\n",
       "      <td>12)WALKUP</td>\n",
       "      <td>12</td>\n",
       "      <td>0</td>\n",
       "      <td>0</td>\n",
       "      <td>0</td>\n",
       "      <td>0</td>\n",
       "      <td>0</td>\n",
       "      <td>0</td>\n",
       "      <td>0</td>\n",
       "      <td>0</td>\n",
       "      <td>0</td>\n",
       "      <td>0</td>\n",
       "      <td>0</td>\n",
       "      <td>1</td>\n",
       "    </tr>\n",
       "    <tr>\n",
       "      <th>50116</th>\n",
       "      <td>IN10050417</td>\n",
       "      <td>Low</td>\n",
       "      <td>114.17</td>\n",
       "      <td>12)WALKUP</td>\n",
       "      <td>12</td>\n",
       "      <td>0</td>\n",
       "      <td>0</td>\n",
       "      <td>0</td>\n",
       "      <td>0</td>\n",
       "      <td>0</td>\n",
       "      <td>0</td>\n",
       "      <td>0</td>\n",
       "      <td>0</td>\n",
       "      <td>0</td>\n",
       "      <td>0</td>\n",
       "      <td>0</td>\n",
       "      <td>1</td>\n",
       "    </tr>\n",
       "  </tbody>\n",
       "</table>\n",
       "<p>50117 rows × 17 columns</p>\n",
       "</div>"
      ],
      "text/plain": [
       "      TICKET_NMBR PRIORITY  BUSINESS_COMPLETION_HRS        EXTERNAL_SYSTEM  \\\n",
       "0      IN10032682      Low                    75.05                 1)CHAT   \n",
       "1      IN10174402      Low                  2200.83  2)CREATEDFROMACTIVITY   \n",
       "2      IN10096643   Medium                  1781.49  2)CREATEDFROMACTIVITY   \n",
       "3      IN10174381      Low                   797.32  2)CREATEDFROMACTIVITY   \n",
       "4      IN10107356      Low                   682.92  2)CREATEDFROMACTIVITY   \n",
       "...           ...      ...                      ...                    ...   \n",
       "50112  IN10046796      Low                   355.20              12)WALKUP   \n",
       "50113  IN10035095      Low                   338.32              12)WALKUP   \n",
       "50114  IN10035525   Medium                   181.82              12)WALKUP   \n",
       "50115  IN10166123      Low                   124.92              12)WALKUP   \n",
       "50116  IN10050417      Low                   114.17              12)WALKUP   \n",
       "\n",
       "       label  1  2  3  4  5  6  7  8  9  10  11  12  \n",
       "0          1  1  0  0  0  0  0  0  0  0   0   0   0  \n",
       "1          2  0  1  0  0  0  0  0  0  0   0   0   0  \n",
       "2          2  0  1  0  0  0  0  0  0  0   0   0   0  \n",
       "3          2  0  1  0  0  0  0  0  0  0   0   0   0  \n",
       "4          2  0  1  0  0  0  0  0  0  0   0   0   0  \n",
       "...      ... .. .. .. .. .. .. .. .. ..  ..  ..  ..  \n",
       "50112     12  0  0  0  0  0  0  0  0  0   0   0   1  \n",
       "50113     12  0  0  0  0  0  0  0  0  0   0   0   1  \n",
       "50114     12  0  0  0  0  0  0  0  0  0   0   0   1  \n",
       "50115     12  0  0  0  0  0  0  0  0  0   0   0   1  \n",
       "50116     12  0  0  0  0  0  0  0  0  0   0   0   1  \n",
       "\n",
       "[50117 rows x 17 columns]"
      ]
     },
     "execution_count": 76,
     "metadata": {},
     "output_type": "execute_result"
    }
   ],
   "source": [
    "df_pd = pd.read_csv('hr_vs_externalsys.csv')\n",
    "df_pd"
   ]
  },
  {
   "cell_type": "code",
   "execution_count": 77,
   "id": "85578901",
   "metadata": {},
   "outputs": [
    {
     "data": {
      "image/png": "[encoded data removed]",
      "text/plain": [
       "<Figure size 432x288 with 1 Axes>"
      ]
     },
     "metadata": {
      "needs_background": "light"
     },
     "output_type": "display_data"
    }
   ],
   "source": [
    "sns.boxplot(y='EXTERNAL_SYSTEM', x='BUSINESS_COMPLETION_HRS', data=df_pd)\n",
    "plt.show()"
   ]
  },
  {
   "cell_type": "code",
   "execution_count": 78,
   "id": "212ec21b",
   "metadata": {},
   "outputs": [
    {
     "data": {
      "text/html": [
       "<div>\n",
       "<style scoped>\n",
       "    .dataframe tbody tr th:only-of-type {\n",
       "        vertical-align: middle;\n",
       "    }\n",
       "\n",
       "    .dataframe tbody tr th {\n",
       "        vertical-align: top;\n",
       "    }\n",
       "\n",
       "    .dataframe thead th {\n",
       "        text-align: right;\n",
       "    }\n",
       "</style>\n",
       "<table border=\"1\" class=\"dataframe\">\n",
       "  <thead>\n",
       "    <tr style=\"text-align: right;\">\n",
       "      <th></th>\n",
       "      <th>BUSINESS_COMPLETION_HRS</th>\n",
       "    </tr>\n",
       "    <tr>\n",
       "      <th>EXTERNAL_SYSTEM</th>\n",
       "      <th></th>\n",
       "    </tr>\n",
       "  </thead>\n",
       "  <tbody>\n",
       "    <tr>\n",
       "      <th>1)CHAT</th>\n",
       "      <td>1</td>\n",
       "    </tr>\n",
       "    <tr>\n",
       "      <th>10)SELFSERVICE</th>\n",
       "      <td>55</td>\n",
       "    </tr>\n",
       "    <tr>\n",
       "      <th>11)SERVICECATALOG</th>\n",
       "      <td>16</td>\n",
       "    </tr>\n",
       "    <tr>\n",
       "      <th>12)WALKUP</th>\n",
       "      <td>8</td>\n",
       "    </tr>\n",
       "    <tr>\n",
       "      <th>2)CREATEDFROMACTIVITY</th>\n",
       "      <td>20</td>\n",
       "    </tr>\n",
       "    <tr>\n",
       "      <th>3)CREATEDFROMINCIDENT</th>\n",
       "      <td>70</td>\n",
       "    </tr>\n",
       "    <tr>\n",
       "      <th>4)CREATEDFROMPROBLEM</th>\n",
       "      <td>7</td>\n",
       "    </tr>\n",
       "    <tr>\n",
       "      <th>5)CREATEDFROMSR</th>\n",
       "      <td>38391</td>\n",
       "    </tr>\n",
       "    <tr>\n",
       "      <th>6)EMAIL</th>\n",
       "      <td>1552</td>\n",
       "    </tr>\n",
       "    <tr>\n",
       "      <th>7)EVENTMANAGEMENT</th>\n",
       "      <td>9231</td>\n",
       "    </tr>\n",
       "    <tr>\n",
       "      <th>8)EXTERNALSERVICEDESK</th>\n",
       "      <td>134</td>\n",
       "    </tr>\n",
       "    <tr>\n",
       "      <th>9)PHONECALL</th>\n",
       "      <td>632</td>\n",
       "    </tr>\n",
       "  </tbody>\n",
       "</table>\n",
       "</div>"
      ],
      "text/plain": [
       "                       BUSINESS_COMPLETION_HRS\n",
       "EXTERNAL_SYSTEM                               \n",
       "1)CHAT                                       1\n",
       "10)SELFSERVICE                              55\n",
       "11)SERVICECATALOG                           16\n",
       "12)WALKUP                                    8\n",
       "2)CREATEDFROMACTIVITY                       20\n",
       "3)CREATEDFROMINCIDENT                       70\n",
       "4)CREATEDFROMPROBLEM                         7\n",
       "5)CREATEDFROMSR                          38391\n",
       "6)EMAIL                                   1552\n",
       "7)EVENTMANAGEMENT                         9231\n",
       "8)EXTERNALSERVICEDESK                      134\n",
       "9)PHONECALL                                632"
      ]
     },
     "execution_count": 78,
     "metadata": {},
     "output_type": "execute_result"
    }
   ],
   "source": [
    "df_pd[[\"BUSINESS_COMPLETION_HRS\",\"EXTERNAL_SYSTEM\"]].groupby(\"EXTERNAL_SYSTEM\").count()\n"
   ]
  },
  {
   "cell_type": "code",
   "execution_count": 79,
   "id": "d47d3112",
   "metadata": {},
   "outputs": [
    {
     "data": {
      "text/html": [
       "<div>\n",
       "<style scoped>\n",
       "    .dataframe tbody tr th:only-of-type {\n",
       "        vertical-align: middle;\n",
       "    }\n",
       "\n",
       "    .dataframe tbody tr th {\n",
       "        vertical-align: top;\n",
       "    }\n",
       "\n",
       "    .dataframe thead th {\n",
       "        text-align: right;\n",
       "    }\n",
       "</style>\n",
       "<table border=\"1\" class=\"dataframe\">\n",
       "  <thead>\n",
       "    <tr style=\"text-align: right;\">\n",
       "      <th></th>\n",
       "      <th>BUSINESS_COMPLETION_HRS</th>\n",
       "    </tr>\n",
       "    <tr>\n",
       "      <th>EXTERNAL_SYSTEM</th>\n",
       "      <th></th>\n",
       "    </tr>\n",
       "  </thead>\n",
       "  <tbody>\n",
       "    <tr>\n",
       "      <th>1)CHAT</th>\n",
       "      <td>75.050000</td>\n",
       "    </tr>\n",
       "    <tr>\n",
       "      <th>10)SELFSERVICE</th>\n",
       "      <td>406.930364</td>\n",
       "    </tr>\n",
       "    <tr>\n",
       "      <th>11)SERVICECATALOG</th>\n",
       "      <td>253.752500</td>\n",
       "    </tr>\n",
       "    <tr>\n",
       "      <th>12)WALKUP</th>\n",
       "      <td>306.005000</td>\n",
       "    </tr>\n",
       "    <tr>\n",
       "      <th>2)CREATEDFROMACTIVITY</th>\n",
       "      <td>412.336500</td>\n",
       "    </tr>\n",
       "    <tr>\n",
       "      <th>3)CREATEDFROMINCIDENT</th>\n",
       "      <td>309.811571</td>\n",
       "    </tr>\n",
       "    <tr>\n",
       "      <th>4)CREATEDFROMPROBLEM</th>\n",
       "      <td>160.287143</td>\n",
       "    </tr>\n",
       "    <tr>\n",
       "      <th>5)CREATEDFROMSR</th>\n",
       "      <td>293.696401</td>\n",
       "    </tr>\n",
       "    <tr>\n",
       "      <th>6)EMAIL</th>\n",
       "      <td>429.867223</td>\n",
       "    </tr>\n",
       "    <tr>\n",
       "      <th>7)EVENTMANAGEMENT</th>\n",
       "      <td>252.490200</td>\n",
       "    </tr>\n",
       "    <tr>\n",
       "      <th>8)EXTERNALSERVICEDESK</th>\n",
       "      <td>412.265373</td>\n",
       "    </tr>\n",
       "    <tr>\n",
       "      <th>9)PHONECALL</th>\n",
       "      <td>311.345396</td>\n",
       "    </tr>\n",
       "  </tbody>\n",
       "</table>\n",
       "</div>"
      ],
      "text/plain": [
       "                       BUSINESS_COMPLETION_HRS\n",
       "EXTERNAL_SYSTEM                               \n",
       "1)CHAT                               75.050000\n",
       "10)SELFSERVICE                      406.930364\n",
       "11)SERVICECATALOG                   253.752500\n",
       "12)WALKUP                           306.005000\n",
       "2)CREATEDFROMACTIVITY               412.336500\n",
       "3)CREATEDFROMINCIDENT               309.811571\n",
       "4)CREATEDFROMPROBLEM                160.287143\n",
       "5)CREATEDFROMSR                     293.696401\n",
       "6)EMAIL                             429.867223\n",
       "7)EVENTMANAGEMENT                   252.490200\n",
       "8)EXTERNALSERVICEDESK               412.265373\n",
       "9)PHONECALL                         311.345396"
      ]
     },
     "execution_count": 79,
     "metadata": {},
     "output_type": "execute_result"
    }
   ],
   "source": [
    "df_pd[[\"BUSINESS_COMPLETION_HRS\",\"EXTERNAL_SYSTEM\"]].groupby(\"EXTERNAL_SYSTEM\").mean()\n"
   ]
  },
  {
   "cell_type": "code",
   "execution_count": 80,
   "id": "13d7e68a",
   "metadata": {},
   "outputs": [
    {
     "data": {
      "text/html": [
       "<div>\n",
       "<style scoped>\n",
       "    .dataframe tbody tr th:only-of-type {\n",
       "        vertical-align: middle;\n",
       "    }\n",
       "\n",
       "    .dataframe tbody tr th {\n",
       "        vertical-align: top;\n",
       "    }\n",
       "\n",
       "    .dataframe thead th {\n",
       "        text-align: right;\n",
       "    }\n",
       "</style>\n",
       "<table border=\"1\" class=\"dataframe\">\n",
       "  <thead>\n",
       "    <tr style=\"text-align: right;\">\n",
       "      <th></th>\n",
       "      <th>BUSINESS_COMPLETION_HRS</th>\n",
       "    </tr>\n",
       "    <tr>\n",
       "      <th>EXTERNAL_SYSTEM</th>\n",
       "      <th></th>\n",
       "    </tr>\n",
       "  </thead>\n",
       "  <tbody>\n",
       "    <tr>\n",
       "      <th>1)CHAT</th>\n",
       "      <td>75.050</td>\n",
       "    </tr>\n",
       "    <tr>\n",
       "      <th>10)SELFSERVICE</th>\n",
       "      <td>205.770</td>\n",
       "    </tr>\n",
       "    <tr>\n",
       "      <th>11)SERVICECATALOG</th>\n",
       "      <td>125.575</td>\n",
       "    </tr>\n",
       "    <tr>\n",
       "      <th>12)WALKUP</th>\n",
       "      <td>346.760</td>\n",
       "    </tr>\n",
       "    <tr>\n",
       "      <th>2)CREATEDFROMACTIVITY</th>\n",
       "      <td>221.275</td>\n",
       "    </tr>\n",
       "    <tr>\n",
       "      <th>3)CREATEDFROMINCIDENT</th>\n",
       "      <td>152.895</td>\n",
       "    </tr>\n",
       "    <tr>\n",
       "      <th>4)CREATEDFROMPROBLEM</th>\n",
       "      <td>61.080</td>\n",
       "    </tr>\n",
       "    <tr>\n",
       "      <th>5)CREATEDFROMSR</th>\n",
       "      <td>125.550</td>\n",
       "    </tr>\n",
       "    <tr>\n",
       "      <th>6)EMAIL</th>\n",
       "      <td>207.415</td>\n",
       "    </tr>\n",
       "    <tr>\n",
       "      <th>7)EVENTMANAGEMENT</th>\n",
       "      <td>104.540</td>\n",
       "    </tr>\n",
       "    <tr>\n",
       "      <th>8)EXTERNALSERVICEDESK</th>\n",
       "      <td>204.000</td>\n",
       "    </tr>\n",
       "    <tr>\n",
       "      <th>9)PHONECALL</th>\n",
       "      <td>125.390</td>\n",
       "    </tr>\n",
       "  </tbody>\n",
       "</table>\n",
       "</div>"
      ],
      "text/plain": [
       "                       BUSINESS_COMPLETION_HRS\n",
       "EXTERNAL_SYSTEM                               \n",
       "1)CHAT                                  75.050\n",
       "10)SELFSERVICE                         205.770\n",
       "11)SERVICECATALOG                      125.575\n",
       "12)WALKUP                              346.760\n",
       "2)CREATEDFROMACTIVITY                  221.275\n",
       "3)CREATEDFROMINCIDENT                  152.895\n",
       "4)CREATEDFROMPROBLEM                    61.080\n",
       "5)CREATEDFROMSR                        125.550\n",
       "6)EMAIL                                207.415\n",
       "7)EVENTMANAGEMENT                      104.540\n",
       "8)EXTERNALSERVICEDESK                  204.000\n",
       "9)PHONECALL                            125.390"
      ]
     },
     "execution_count": 80,
     "metadata": {},
     "output_type": "execute_result"
    }
   ],
   "source": [
    "df_pd[[\"BUSINESS_COMPLETION_HRS\",\"EXTERNAL_SYSTEM\"]].groupby(\"EXTERNAL_SYSTEM\").median()\n"
   ]
  },
  {
   "cell_type": "code",
   "execution_count": 81,
   "id": "08a30d8f",
   "metadata": {},
   "outputs": [
    {
     "data": {
      "text/html": [
       "<div>\n",
       "<style scoped>\n",
       "    .dataframe tbody tr th:only-of-type {\n",
       "        vertical-align: middle;\n",
       "    }\n",
       "\n",
       "    .dataframe tbody tr th {\n",
       "        vertical-align: top;\n",
       "    }\n",
       "\n",
       "    .dataframe thead th {\n",
       "        text-align: right;\n",
       "    }\n",
       "</style>\n",
       "<table border=\"1\" class=\"dataframe\">\n",
       "  <thead>\n",
       "    <tr style=\"text-align: right;\">\n",
       "      <th></th>\n",
       "      <th>BUSINESS_COMPLETION_HRS</th>\n",
       "    </tr>\n",
       "    <tr>\n",
       "      <th>EXTERNAL_SYSTEM</th>\n",
       "      <th></th>\n",
       "    </tr>\n",
       "  </thead>\n",
       "  <tbody>\n",
       "    <tr>\n",
       "      <th>1)CHAT</th>\n",
       "      <td>NaN</td>\n",
       "    </tr>\n",
       "    <tr>\n",
       "      <th>10)SELFSERVICE</th>\n",
       "      <td>470.059298</td>\n",
       "    </tr>\n",
       "    <tr>\n",
       "      <th>11)SERVICECATALOG</th>\n",
       "      <td>317.590512</td>\n",
       "    </tr>\n",
       "    <tr>\n",
       "      <th>12)WALKUP</th>\n",
       "      <td>156.145287</td>\n",
       "    </tr>\n",
       "    <tr>\n",
       "      <th>2)CREATEDFROMACTIVITY</th>\n",
       "      <td>582.255703</td>\n",
       "    </tr>\n",
       "    <tr>\n",
       "      <th>3)CREATEDFROMINCIDENT</th>\n",
       "      <td>434.135537</td>\n",
       "    </tr>\n",
       "    <tr>\n",
       "      <th>4)CREATEDFROMPROBLEM</th>\n",
       "      <td>245.087523</td>\n",
       "    </tr>\n",
       "    <tr>\n",
       "      <th>5)CREATEDFROMSR</th>\n",
       "      <td>452.761157</td>\n",
       "    </tr>\n",
       "    <tr>\n",
       "      <th>6)EMAIL</th>\n",
       "      <td>581.419904</td>\n",
       "    </tr>\n",
       "    <tr>\n",
       "      <th>7)EVENTMANAGEMENT</th>\n",
       "      <td>440.118164</td>\n",
       "    </tr>\n",
       "    <tr>\n",
       "      <th>8)EXTERNALSERVICEDESK</th>\n",
       "      <td>490.889930</td>\n",
       "    </tr>\n",
       "    <tr>\n",
       "      <th>9)PHONECALL</th>\n",
       "      <td>501.548844</td>\n",
       "    </tr>\n",
       "  </tbody>\n",
       "</table>\n",
       "</div>"
      ],
      "text/plain": [
       "                       BUSINESS_COMPLETION_HRS\n",
       "EXTERNAL_SYSTEM                               \n",
       "1)CHAT                                     NaN\n",
       "10)SELFSERVICE                      470.059298\n",
       "11)SERVICECATALOG                   317.590512\n",
       "12)WALKUP                           156.145287\n",
       "2)CREATEDFROMACTIVITY               582.255703\n",
       "3)CREATEDFROMINCIDENT               434.135537\n",
       "4)CREATEDFROMPROBLEM                245.087523\n",
       "5)CREATEDFROMSR                     452.761157\n",
       "6)EMAIL                             581.419904\n",
       "7)EVENTMANAGEMENT                   440.118164\n",
       "8)EXTERNALSERVICEDESK               490.889930\n",
       "9)PHONECALL                         501.548844"
      ]
     },
     "execution_count": 81,
     "metadata": {},
     "output_type": "execute_result"
    }
   ],
   "source": [
    "df_pd[[\"BUSINESS_COMPLETION_HRS\",\"EXTERNAL_SYSTEM\"]].groupby(\"EXTERNAL_SYSTEM\").std()"
   ]
  },
  {
   "cell_type": "code",
   "execution_count": 82,
   "id": "111ba411",
   "metadata": {},
   "outputs": [
    {
     "data": {
      "text/html": [
       "<pre>Finished parsing file /home/kchow3/CANDEV/hr_vs_externalsys_import.csv</pre>"
      ],
      "text/plain": [
       "Finished parsing file /home/kchow3/CANDEV/hr_vs_externalsys_import.csv"
      ]
     },
     "metadata": {},
     "output_type": "display_data"
    },
    {
     "data": {
      "text/html": [
       "<pre>Parsing completed. Parsed 100 lines in 0.050128 secs.</pre>"
      ],
      "text/plain": [
       "Parsing completed. Parsed 100 lines in 0.050128 secs."
      ]
     },
     "metadata": {},
     "output_type": "display_data"
    },
    {
     "name": "stdout",
     "output_type": "stream",
     "text": [
      "------------------------------------------------------\n",
      "Inferred types from first 100 line(s) of file as \n",
      "column_type_hints=[float,int,int,int,int,int,int,int,int,int,int,int,int]\n",
      "If parsing fails due to incorrect types, you can correct\n",
      "the inferred type list above and pass it to read_csv in\n",
      "the column_type_hints argument\n",
      "------------------------------------------------------\n"
     ]
    },
    {
     "data": {
      "text/html": [
       "<pre>Finished parsing file /home/kchow3/CANDEV/hr_vs_externalsys_import.csv</pre>"
      ],
      "text/plain": [
       "Finished parsing file /home/kchow3/CANDEV/hr_vs_externalsys_import.csv"
      ]
     },
     "metadata": {},
     "output_type": "display_data"
    },
    {
     "data": {
      "text/html": [
       "<pre>Parsing completed. Parsed 50117 lines in 0.070565 secs.</pre>"
      ],
      "text/plain": [
       "Parsing completed. Parsed 50117 lines in 0.070565 secs."
      ]
     },
     "metadata": {},
     "output_type": "display_data"
    },
    {
     "data": {
      "text/html": [
       "<div style=\"max-height:1000px;max-width:1500px;overflow:auto;\"><table frame=\"box\" rules=\"cols\">\n",
       "    <tr>\n",
       "        <th style=\"padding-left: 1em; padding-right: 1em; text-align: center\">BUSINESS_COMPLETION_HRS</th>\n",
       "        <th style=\"padding-left: 1em; padding-right: 1em; text-align: center\">Label1</th>\n",
       "        <th style=\"padding-left: 1em; padding-right: 1em; text-align: center\">Label2</th>\n",
       "        <th style=\"padding-left: 1em; padding-right: 1em; text-align: center\">Label3</th>\n",
       "        <th style=\"padding-left: 1em; padding-right: 1em; text-align: center\">Label4</th>\n",
       "        <th style=\"padding-left: 1em; padding-right: 1em; text-align: center\">Label5</th>\n",
       "        <th style=\"padding-left: 1em; padding-right: 1em; text-align: center\">Label6</th>\n",
       "        <th style=\"padding-left: 1em; padding-right: 1em; text-align: center\">Label7</th>\n",
       "        <th style=\"padding-left: 1em; padding-right: 1em; text-align: center\">Label8</th>\n",
       "        <th style=\"padding-left: 1em; padding-right: 1em; text-align: center\">Label9</th>\n",
       "        <th style=\"padding-left: 1em; padding-right: 1em; text-align: center\">Label10</th>\n",
       "        <th style=\"padding-left: 1em; padding-right: 1em; text-align: center\">Label11</th>\n",
       "    </tr>\n",
       "    <tr>\n",
       "        <td style=\"padding-left: 1em; padding-right: 1em; text-align: center; vertical-align: top\">75.05</td>\n",
       "        <td style=\"padding-left: 1em; padding-right: 1em; text-align: center; vertical-align: top\">1</td>\n",
       "        <td style=\"padding-left: 1em; padding-right: 1em; text-align: center; vertical-align: top\">0</td>\n",
       "        <td style=\"padding-left: 1em; padding-right: 1em; text-align: center; vertical-align: top\">0</td>\n",
       "        <td style=\"padding-left: 1em; padding-right: 1em; text-align: center; vertical-align: top\">0</td>\n",
       "        <td style=\"padding-left: 1em; padding-right: 1em; text-align: center; vertical-align: top\">0</td>\n",
       "        <td style=\"padding-left: 1em; padding-right: 1em; text-align: center; vertical-align: top\">0</td>\n",
       "        <td style=\"padding-left: 1em; padding-right: 1em; text-align: center; vertical-align: top\">0</td>\n",
       "        <td style=\"padding-left: 1em; padding-right: 1em; text-align: center; vertical-align: top\">0</td>\n",
       "        <td style=\"padding-left: 1em; padding-right: 1em; text-align: center; vertical-align: top\">0</td>\n",
       "        <td style=\"padding-left: 1em; padding-right: 1em; text-align: center; vertical-align: top\">0</td>\n",
       "        <td style=\"padding-left: 1em; padding-right: 1em; text-align: center; vertical-align: top\">0</td>\n",
       "    </tr>\n",
       "    <tr>\n",
       "        <td style=\"padding-left: 1em; padding-right: 1em; text-align: center; vertical-align: top\">2200.83</td>\n",
       "        <td style=\"padding-left: 1em; padding-right: 1em; text-align: center; vertical-align: top\">0</td>\n",
       "        <td style=\"padding-left: 1em; padding-right: 1em; text-align: center; vertical-align: top\">1</td>\n",
       "        <td style=\"padding-left: 1em; padding-right: 1em; text-align: center; vertical-align: top\">0</td>\n",
       "        <td style=\"padding-left: 1em; padding-right: 1em; text-align: center; vertical-align: top\">0</td>\n",
       "        <td style=\"padding-left: 1em; padding-right: 1em; text-align: center; vertical-align: top\">0</td>\n",
       "        <td style=\"padding-left: 1em; padding-right: 1em; text-align: center; vertical-align: top\">0</td>\n",
       "        <td style=\"padding-left: 1em; padding-right: 1em; text-align: center; vertical-align: top\">0</td>\n",
       "        <td style=\"padding-left: 1em; padding-right: 1em; text-align: center; vertical-align: top\">0</td>\n",
       "        <td style=\"padding-left: 1em; padding-right: 1em; text-align: center; vertical-align: top\">0</td>\n",
       "        <td style=\"padding-left: 1em; padding-right: 1em; text-align: center; vertical-align: top\">0</td>\n",
       "        <td style=\"padding-left: 1em; padding-right: 1em; text-align: center; vertical-align: top\">0</td>\n",
       "    </tr>\n",
       "    <tr>\n",
       "        <td style=\"padding-left: 1em; padding-right: 1em; text-align: center; vertical-align: top\">1781.49</td>\n",
       "        <td style=\"padding-left: 1em; padding-right: 1em; text-align: center; vertical-align: top\">0</td>\n",
       "        <td style=\"padding-left: 1em; padding-right: 1em; text-align: center; vertical-align: top\">1</td>\n",
       "        <td style=\"padding-left: 1em; padding-right: 1em; text-align: center; vertical-align: top\">0</td>\n",
       "        <td style=\"padding-left: 1em; padding-right: 1em; text-align: center; vertical-align: top\">0</td>\n",
       "        <td style=\"padding-left: 1em; padding-right: 1em; text-align: center; vertical-align: top\">0</td>\n",
       "        <td style=\"padding-left: 1em; padding-right: 1em; text-align: center; vertical-align: top\">0</td>\n",
       "        <td style=\"padding-left: 1em; padding-right: 1em; text-align: center; vertical-align: top\">0</td>\n",
       "        <td style=\"padding-left: 1em; padding-right: 1em; text-align: center; vertical-align: top\">0</td>\n",
       "        <td style=\"padding-left: 1em; padding-right: 1em; text-align: center; vertical-align: top\">0</td>\n",
       "        <td style=\"padding-left: 1em; padding-right: 1em; text-align: center; vertical-align: top\">0</td>\n",
       "        <td style=\"padding-left: 1em; padding-right: 1em; text-align: center; vertical-align: top\">0</td>\n",
       "    </tr>\n",
       "    <tr>\n",
       "        <td style=\"padding-left: 1em; padding-right: 1em; text-align: center; vertical-align: top\">797.32</td>\n",
       "        <td style=\"padding-left: 1em; padding-right: 1em; text-align: center; vertical-align: top\">0</td>\n",
       "        <td style=\"padding-left: 1em; padding-right: 1em; text-align: center; vertical-align: top\">1</td>\n",
       "        <td style=\"padding-left: 1em; padding-right: 1em; text-align: center; vertical-align: top\">0</td>\n",
       "        <td style=\"padding-left: 1em; padding-right: 1em; text-align: center; vertical-align: top\">0</td>\n",
       "        <td style=\"padding-left: 1em; padding-right: 1em; text-align: center; vertical-align: top\">0</td>\n",
       "        <td style=\"padding-left: 1em; padding-right: 1em; text-align: center; vertical-align: top\">0</td>\n",
       "        <td style=\"padding-left: 1em; padding-right: 1em; text-align: center; vertical-align: top\">0</td>\n",
       "        <td style=\"padding-left: 1em; padding-right: 1em; text-align: center; vertical-align: top\">0</td>\n",
       "        <td style=\"padding-left: 1em; padding-right: 1em; text-align: center; vertical-align: top\">0</td>\n",
       "        <td style=\"padding-left: 1em; padding-right: 1em; text-align: center; vertical-align: top\">0</td>\n",
       "        <td style=\"padding-left: 1em; padding-right: 1em; text-align: center; vertical-align: top\">0</td>\n",
       "    </tr>\n",
       "    <tr>\n",
       "        <td style=\"padding-left: 1em; padding-right: 1em; text-align: center; vertical-align: top\">682.92</td>\n",
       "        <td style=\"padding-left: 1em; padding-right: 1em; text-align: center; vertical-align: top\">0</td>\n",
       "        <td style=\"padding-left: 1em; padding-right: 1em; text-align: center; vertical-align: top\">1</td>\n",
       "        <td style=\"padding-left: 1em; padding-right: 1em; text-align: center; vertical-align: top\">0</td>\n",
       "        <td style=\"padding-left: 1em; padding-right: 1em; text-align: center; vertical-align: top\">0</td>\n",
       "        <td style=\"padding-left: 1em; padding-right: 1em; text-align: center; vertical-align: top\">0</td>\n",
       "        <td style=\"padding-left: 1em; padding-right: 1em; text-align: center; vertical-align: top\">0</td>\n",
       "        <td style=\"padding-left: 1em; padding-right: 1em; text-align: center; vertical-align: top\">0</td>\n",
       "        <td style=\"padding-left: 1em; padding-right: 1em; text-align: center; vertical-align: top\">0</td>\n",
       "        <td style=\"padding-left: 1em; padding-right: 1em; text-align: center; vertical-align: top\">0</td>\n",
       "        <td style=\"padding-left: 1em; padding-right: 1em; text-align: center; vertical-align: top\">0</td>\n",
       "        <td style=\"padding-left: 1em; padding-right: 1em; text-align: center; vertical-align: top\">0</td>\n",
       "    </tr>\n",
       "    <tr>\n",
       "        <td style=\"padding-left: 1em; padding-right: 1em; text-align: center; vertical-align: top\">400.08</td>\n",
       "        <td style=\"padding-left: 1em; padding-right: 1em; text-align: center; vertical-align: top\">0</td>\n",
       "        <td style=\"padding-left: 1em; padding-right: 1em; text-align: center; vertical-align: top\">1</td>\n",
       "        <td style=\"padding-left: 1em; padding-right: 1em; text-align: center; vertical-align: top\">0</td>\n",
       "        <td style=\"padding-left: 1em; padding-right: 1em; text-align: center; vertical-align: top\">0</td>\n",
       "        <td style=\"padding-left: 1em; padding-right: 1em; text-align: center; vertical-align: top\">0</td>\n",
       "        <td style=\"padding-left: 1em; padding-right: 1em; text-align: center; vertical-align: top\">0</td>\n",
       "        <td style=\"padding-left: 1em; padding-right: 1em; text-align: center; vertical-align: top\">0</td>\n",
       "        <td style=\"padding-left: 1em; padding-right: 1em; text-align: center; vertical-align: top\">0</td>\n",
       "        <td style=\"padding-left: 1em; padding-right: 1em; text-align: center; vertical-align: top\">0</td>\n",
       "        <td style=\"padding-left: 1em; padding-right: 1em; text-align: center; vertical-align: top\">0</td>\n",
       "        <td style=\"padding-left: 1em; padding-right: 1em; text-align: center; vertical-align: top\">0</td>\n",
       "    </tr>\n",
       "    <tr>\n",
       "        <td style=\"padding-left: 1em; padding-right: 1em; text-align: center; vertical-align: top\">392.2</td>\n",
       "        <td style=\"padding-left: 1em; padding-right: 1em; text-align: center; vertical-align: top\">0</td>\n",
       "        <td style=\"padding-left: 1em; padding-right: 1em; text-align: center; vertical-align: top\">1</td>\n",
       "        <td style=\"padding-left: 1em; padding-right: 1em; text-align: center; vertical-align: top\">0</td>\n",
       "        <td style=\"padding-left: 1em; padding-right: 1em; text-align: center; vertical-align: top\">0</td>\n",
       "        <td style=\"padding-left: 1em; padding-right: 1em; text-align: center; vertical-align: top\">0</td>\n",
       "        <td style=\"padding-left: 1em; padding-right: 1em; text-align: center; vertical-align: top\">0</td>\n",
       "        <td style=\"padding-left: 1em; padding-right: 1em; text-align: center; vertical-align: top\">0</td>\n",
       "        <td style=\"padding-left: 1em; padding-right: 1em; text-align: center; vertical-align: top\">0</td>\n",
       "        <td style=\"padding-left: 1em; padding-right: 1em; text-align: center; vertical-align: top\">0</td>\n",
       "        <td style=\"padding-left: 1em; padding-right: 1em; text-align: center; vertical-align: top\">0</td>\n",
       "        <td style=\"padding-left: 1em; padding-right: 1em; text-align: center; vertical-align: top\">0</td>\n",
       "    </tr>\n",
       "    <tr>\n",
       "        <td style=\"padding-left: 1em; padding-right: 1em; text-align: center; vertical-align: top\">314.07</td>\n",
       "        <td style=\"padding-left: 1em; padding-right: 1em; text-align: center; vertical-align: top\">0</td>\n",
       "        <td style=\"padding-left: 1em; padding-right: 1em; text-align: center; vertical-align: top\">1</td>\n",
       "        <td style=\"padding-left: 1em; padding-right: 1em; text-align: center; vertical-align: top\">0</td>\n",
       "        <td style=\"padding-left: 1em; padding-right: 1em; text-align: center; vertical-align: top\">0</td>\n",
       "        <td style=\"padding-left: 1em; padding-right: 1em; text-align: center; vertical-align: top\">0</td>\n",
       "        <td style=\"padding-left: 1em; padding-right: 1em; text-align: center; vertical-align: top\">0</td>\n",
       "        <td style=\"padding-left: 1em; padding-right: 1em; text-align: center; vertical-align: top\">0</td>\n",
       "        <td style=\"padding-left: 1em; padding-right: 1em; text-align: center; vertical-align: top\">0</td>\n",
       "        <td style=\"padding-left: 1em; padding-right: 1em; text-align: center; vertical-align: top\">0</td>\n",
       "        <td style=\"padding-left: 1em; padding-right: 1em; text-align: center; vertical-align: top\">0</td>\n",
       "        <td style=\"padding-left: 1em; padding-right: 1em; text-align: center; vertical-align: top\">0</td>\n",
       "    </tr>\n",
       "    <tr>\n",
       "        <td style=\"padding-left: 1em; padding-right: 1em; text-align: center; vertical-align: top\">282.17</td>\n",
       "        <td style=\"padding-left: 1em; padding-right: 1em; text-align: center; vertical-align: top\">0</td>\n",
       "        <td style=\"padding-left: 1em; padding-right: 1em; text-align: center; vertical-align: top\">1</td>\n",
       "        <td style=\"padding-left: 1em; padding-right: 1em; text-align: center; vertical-align: top\">0</td>\n",
       "        <td style=\"padding-left: 1em; padding-right: 1em; text-align: center; vertical-align: top\">0</td>\n",
       "        <td style=\"padding-left: 1em; padding-right: 1em; text-align: center; vertical-align: top\">0</td>\n",
       "        <td style=\"padding-left: 1em; padding-right: 1em; text-align: center; vertical-align: top\">0</td>\n",
       "        <td style=\"padding-left: 1em; padding-right: 1em; text-align: center; vertical-align: top\">0</td>\n",
       "        <td style=\"padding-left: 1em; padding-right: 1em; text-align: center; vertical-align: top\">0</td>\n",
       "        <td style=\"padding-left: 1em; padding-right: 1em; text-align: center; vertical-align: top\">0</td>\n",
       "        <td style=\"padding-left: 1em; padding-right: 1em; text-align: center; vertical-align: top\">0</td>\n",
       "        <td style=\"padding-left: 1em; padding-right: 1em; text-align: center; vertical-align: top\">0</td>\n",
       "    </tr>\n",
       "    <tr>\n",
       "        <td style=\"padding-left: 1em; padding-right: 1em; text-align: center; vertical-align: top\">259.65</td>\n",
       "        <td style=\"padding-left: 1em; padding-right: 1em; text-align: center; vertical-align: top\">0</td>\n",
       "        <td style=\"padding-left: 1em; padding-right: 1em; text-align: center; vertical-align: top\">1</td>\n",
       "        <td style=\"padding-left: 1em; padding-right: 1em; text-align: center; vertical-align: top\">0</td>\n",
       "        <td style=\"padding-left: 1em; padding-right: 1em; text-align: center; vertical-align: top\">0</td>\n",
       "        <td style=\"padding-left: 1em; padding-right: 1em; text-align: center; vertical-align: top\">0</td>\n",
       "        <td style=\"padding-left: 1em; padding-right: 1em; text-align: center; vertical-align: top\">0</td>\n",
       "        <td style=\"padding-left: 1em; padding-right: 1em; text-align: center; vertical-align: top\">0</td>\n",
       "        <td style=\"padding-left: 1em; padding-right: 1em; text-align: center; vertical-align: top\">0</td>\n",
       "        <td style=\"padding-left: 1em; padding-right: 1em; text-align: center; vertical-align: top\">0</td>\n",
       "        <td style=\"padding-left: 1em; padding-right: 1em; text-align: center; vertical-align: top\">0</td>\n",
       "        <td style=\"padding-left: 1em; padding-right: 1em; text-align: center; vertical-align: top\">0</td>\n",
       "    </tr>\n",
       "</table>\n",
       "<table frame=\"box\" rules=\"cols\">\n",
       "    <tr>\n",
       "        <th style=\"padding-left: 1em; padding-right: 1em; text-align: center\">Label12</th>\n",
       "    </tr>\n",
       "    <tr>\n",
       "        <td style=\"padding-left: 1em; padding-right: 1em; text-align: center; vertical-align: top\">0</td>\n",
       "    </tr>\n",
       "    <tr>\n",
       "        <td style=\"padding-left: 1em; padding-right: 1em; text-align: center; vertical-align: top\">0</td>\n",
       "    </tr>\n",
       "    <tr>\n",
       "        <td style=\"padding-left: 1em; padding-right: 1em; text-align: center; vertical-align: top\">0</td>\n",
       "    </tr>\n",
       "    <tr>\n",
       "        <td style=\"padding-left: 1em; padding-right: 1em; text-align: center; vertical-align: top\">0</td>\n",
       "    </tr>\n",
       "    <tr>\n",
       "        <td style=\"padding-left: 1em; padding-right: 1em; text-align: center; vertical-align: top\">0</td>\n",
       "    </tr>\n",
       "    <tr>\n",
       "        <td style=\"padding-left: 1em; padding-right: 1em; text-align: center; vertical-align: top\">0</td>\n",
       "    </tr>\n",
       "    <tr>\n",
       "        <td style=\"padding-left: 1em; padding-right: 1em; text-align: center; vertical-align: top\">0</td>\n",
       "    </tr>\n",
       "    <tr>\n",
       "        <td style=\"padding-left: 1em; padding-right: 1em; text-align: center; vertical-align: top\">0</td>\n",
       "    </tr>\n",
       "    <tr>\n",
       "        <td style=\"padding-left: 1em; padding-right: 1em; text-align: center; vertical-align: top\">0</td>\n",
       "    </tr>\n",
       "    <tr>\n",
       "        <td style=\"padding-left: 1em; padding-right: 1em; text-align: center; vertical-align: top\">0</td>\n",
       "    </tr>\n",
       "</table>\n",
       "[50117 rows x 13 columns]<br/>Note: Only the head of the SFrame is printed.<br/>You can use print_rows(num_rows=m, num_columns=n) to print more rows and columns.\n",
       "</div>"
      ],
      "text/plain": [
       "Columns:\n",
       "\tBUSINESS_COMPLETION_HRS\tfloat\n",
       "\tLabel1\tint\n",
       "\tLabel2\tint\n",
       "\tLabel3\tint\n",
       "\tLabel4\tint\n",
       "\tLabel5\tint\n",
       "\tLabel6\tint\n",
       "\tLabel7\tint\n",
       "\tLabel8\tint\n",
       "\tLabel9\tint\n",
       "\tLabel10\tint\n",
       "\tLabel11\tint\n",
       "\tLabel12\tint\n",
       "\n",
       "Rows: 50117\n",
       "\n",
       "Data:\n",
       "+-------------------------+--------+--------+--------+--------+--------+--------+\n",
       "| BUSINESS_COMPLETION_HRS | Label1 | Label2 | Label3 | Label4 | Label5 | Label6 |\n",
       "+-------------------------+--------+--------+--------+--------+--------+--------+\n",
       "|          75.05          |   1    |   0    |   0    |   0    |   0    |   0    |\n",
       "|         2200.83         |   0    |   1    |   0    |   0    |   0    |   0    |\n",
       "|         1781.49         |   0    |   1    |   0    |   0    |   0    |   0    |\n",
       "|          797.32         |   0    |   1    |   0    |   0    |   0    |   0    |\n",
       "|          682.92         |   0    |   1    |   0    |   0    |   0    |   0    |\n",
       "|          400.08         |   0    |   1    |   0    |   0    |   0    |   0    |\n",
       "|          392.2          |   0    |   1    |   0    |   0    |   0    |   0    |\n",
       "|          314.07         |   0    |   1    |   0    |   0    |   0    |   0    |\n",
       "|          282.17         |   0    |   1    |   0    |   0    |   0    |   0    |\n",
       "|          259.65         |   0    |   1    |   0    |   0    |   0    |   0    |\n",
       "+-------------------------+--------+--------+--------+--------+--------+--------+\n",
       "+--------+--------+--------+---------+---------+---------+\n",
       "| Label7 | Label8 | Label9 | Label10 | Label11 | Label12 |\n",
       "+--------+--------+--------+---------+---------+---------+\n",
       "|   0    |   0    |   0    |    0    |    0    |    0    |\n",
       "|   0    |   0    |   0    |    0    |    0    |    0    |\n",
       "|   0    |   0    |   0    |    0    |    0    |    0    |\n",
       "|   0    |   0    |   0    |    0    |    0    |    0    |\n",
       "|   0    |   0    |   0    |    0    |    0    |    0    |\n",
       "|   0    |   0    |   0    |    0    |    0    |    0    |\n",
       "|   0    |   0    |   0    |    0    |    0    |    0    |\n",
       "|   0    |   0    |   0    |    0    |    0    |    0    |\n",
       "|   0    |   0    |   0    |    0    |    0    |    0    |\n",
       "|   0    |   0    |   0    |    0    |    0    |    0    |\n",
       "+--------+--------+--------+---------+---------+---------+\n",
       "[50117 rows x 13 columns]\n",
       "Note: Only the head of the SFrame is printed.\n",
       "You can use print_rows(num_rows=m, num_columns=n) to print more rows and columns."
      ]
     },
     "execution_count": 82,
     "metadata": {},
     "output_type": "execute_result"
    }
   ],
   "source": [
    "data_tc = tc.SFrame('hr_vs_externalsys_import.csv')\n",
    "data_tc"
   ]
  },
  {
   "cell_type": "code",
   "execution_count": 88,
   "id": "9cf8d313",
   "metadata": {},
   "outputs": [
    {
     "name": "stdout",
     "output_type": "stream",
     "text": [
      "PROGRESS: Creating a validation set from 5 percent of training data. This may take a while.\n",
      "          You can set ``validation_set=None`` to disable validation tracking.\n",
      "\n"
     ]
    },
    {
     "data": {
      "text/html": [
       "<pre>Linear regression:</pre>"
      ],
      "text/plain": [
       "Linear regression:"
      ]
     },
     "metadata": {},
     "output_type": "display_data"
    },
    {
     "data": {
      "text/html": [
       "<pre>--------------------------------------------------------</pre>"
      ],
      "text/plain": [
       "--------------------------------------------------------"
      ]
     },
     "metadata": {},
     "output_type": "display_data"
    },
    {
     "data": {
      "text/html": [
       "<pre>Number of examples          : 47611</pre>"
      ],
      "text/plain": [
       "Number of examples          : 47611"
      ]
     },
     "metadata": {},
     "output_type": "display_data"
    },
    {
     "data": {
      "text/html": [
       "<pre>Number of features          : 12</pre>"
      ],
      "text/plain": [
       "Number of features          : 12"
      ]
     },
     "metadata": {},
     "output_type": "display_data"
    },
    {
     "data": {
      "text/html": [
       "<pre>Number of unpacked features : 12</pre>"
      ],
      "text/plain": [
       "Number of unpacked features : 12"
      ]
     },
     "metadata": {},
     "output_type": "display_data"
    },
    {
     "data": {
      "text/html": [
       "<pre>Number of coefficients    : 13</pre>"
      ],
      "text/plain": [
       "Number of coefficients    : 13"
      ]
     },
     "metadata": {},
     "output_type": "display_data"
    },
    {
     "data": {
      "text/html": [
       "<pre>Starting Newton Method</pre>"
      ],
      "text/plain": [
       "Starting Newton Method"
      ]
     },
     "metadata": {},
     "output_type": "display_data"
    },
    {
     "data": {
      "text/html": [
       "<pre>--------------------------------------------------------</pre>"
      ],
      "text/plain": [
       "--------------------------------------------------------"
      ]
     },
     "metadata": {},
     "output_type": "display_data"
    },
    {
     "data": {
      "text/html": [
       "<pre>+-----------+----------+--------------+--------------------+----------------------+---------------------------------+-----------------------------------+</pre>"
      ],
      "text/plain": [
       "+-----------+----------+--------------+--------------------+----------------------+---------------------------------+-----------------------------------+"
      ]
     },
     "metadata": {},
     "output_type": "display_data"
    },
    {
     "data": {
      "text/html": [
       "<pre>| Iteration | Passes   | Elapsed Time | Training Max Error | Validation Max Error | Training Root-Mean-Square Error | Validation Root-Mean-Square Error |</pre>"
      ],
      "text/plain": [
       "| Iteration | Passes   | Elapsed Time | Training Max Error | Validation Max Error | Training Root-Mean-Square Error | Validation Root-Mean-Square Error |"
      ]
     },
     "metadata": {},
     "output_type": "display_data"
    },
    {
     "data": {
      "text/html": [
       "<pre>+-----------+----------+--------------+--------------------+----------------------+---------------------------------+-----------------------------------+</pre>"
      ],
      "text/plain": [
       "+-----------+----------+--------------+--------------------+----------------------+---------------------------------+-----------------------------------+"
      ]
     },
     "metadata": {},
     "output_type": "display_data"
    },
    {
     "data": {
      "text/html": [
       "<pre>| 1         | 2        | 0.015572     | 6488.190590        | 4245.760590          | 457.533705                      | 418.708415                        |</pre>"
      ],
      "text/plain": [
       "| 1         | 2        | 0.015572     | 6488.190590        | 4245.760590          | 457.533705                      | 418.708415                        |"
      ]
     },
     "metadata": {},
     "output_type": "display_data"
    },
    {
     "data": {
      "text/html": [
       "<pre>+-----------+----------+--------------+--------------------+----------------------+---------------------------------+-----------------------------------+</pre>"
      ],
      "text/plain": [
       "+-----------+----------+--------------+--------------------+----------------------+---------------------------------+-----------------------------------+"
      ]
     },
     "metadata": {},
     "output_type": "display_data"
    },
    {
     "data": {
      "text/html": [
       "<pre>SUCCESS: Optimal solution found.</pre>"
      ],
      "text/plain": [
       "SUCCESS: Optimal solution found."
      ]
     },
     "metadata": {},
     "output_type": "display_data"
    },
    {
     "data": {
      "text/html": [
       "<pre></pre>"
      ],
      "text/plain": []
     },
     "metadata": {},
     "output_type": "display_data"
    }
   ],
   "source": [
    "model = tc.linear_regression.create(data_tc, target='BUSINESS_COMPLETION_HRS')"
   ]
  },
  {
   "cell_type": "code",
   "execution_count": 89,
   "id": "1927ec8b",
   "metadata": {},
   "outputs": [
    {
     "name": "stdout",
     "output_type": "stream",
     "text": [
      "+-------------+-------+---------------------+--------------------+\n",
      "|     name    | index |        value        |       stderr       |\n",
      "+-------------+-------+---------------------+--------------------+\n",
      "| (intercept) |  None |  291.45799152000427 | 18654904.013269134 |\n",
      "|    Label1   |  None |  -216.4079460657003 | 18654904.01888144  |\n",
      "|    Label2   |  None |  120.87848309069128 | 18654904.013549756 |\n",
      "|    Label3   |  None |  19.105827996421016 | 18654904.013351712 |\n",
      "|    Label4   |  None | -131.17082111175495 | 18654904.014070887 |\n",
      "|    Label5   |  None |  2.6914186142900354 | 18654904.01326911  |\n",
      "|    Label6   |  None |  138.48824037911126 |  18654904.0132732  |\n",
      "|    Label7   |  None | -38.671421110998565 | 18654904.01326969  |\n",
      "|    Label8   |  None |  129.7786747696843  | 18654904.01331445  |\n",
      "|    Label9   |  None |  19.829047504472875 | 18654904.013278462 |\n",
      "|   Label10   |  None |  121.5173533268734  | 18654904.013373062 |\n",
      "|   Label11   |  None | -37.705483600348316 | 18654904.013619915 |\n",
      "|   Label12   |  None |  14.547005424544114 | 18654904.013970673 |\n",
      "+-------------+-------+---------------------+--------------------+\n",
      "[13 rows x 4 columns]\n",
      "\n"
     ]
    }
   ],
   "source": [
    "model.coefficients.print_rows(13,4)\n"
   ]
  },
  {
   "cell_type": "code",
   "execution_count": 90,
   "id": "d012ad7e",
   "metadata": {},
   "outputs": [
    {
     "data": {
      "text/plain": [
       "{'max_error': 6490.881993236857, 'rmse': 2391.3479637612977}"
      ]
     },
     "execution_count": 90,
     "metadata": {},
     "output_type": "execute_result"
    }
   ],
   "source": [
    "model.evaluate(data)"
   ]
  }
 ],
 "metadata": {
  "kernelspec": {
   "display_name": "Python 3",
   "language": "python",
   "name": "python3"
  },
  "language_info": {
   "codemirror_mode": {
    "name": "ipython",
    "version": 3
   },
   "file_extension": ".py",
   "mimetype": "text/x-python",
   "name": "python",
   "nbconvert_exporter": "python",
   "pygments_lexer": "ipython3",
   "version": "3.8.8"
  }
 },
 "nbformat": 4,
 "nbformat_minor": 5
}
